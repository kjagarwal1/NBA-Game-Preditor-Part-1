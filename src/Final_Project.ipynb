{
  "nbformat": 4,
  "nbformat_minor": 0,
  "metadata": {
    "colab": {
      "name": "Final Project",
      "provenance": []
    },
    "kernelspec": {
      "name": "python3",
      "display_name": "Python 3"
    }
  },
  "cells": [
    {
      "cell_type": "code",
      "metadata": {
        "id": "jFfka86IFl0z",
        "colab_type": "code",
        "colab": {}
      },
      "source": [
        "from sklearn.decomposition import TruncatedSVD\n",
        "from sklearn.model_selection import train_test_split\n",
        "from sklearn.linear_model import LogisticRegression\n",
        "from sklearn.neighbors import KNeighborsClassifier\n",
        "from sklearn.ensemble import RandomForestClassifier\n",
        "from sklearn.tree import DecisionTreeClassifier\n",
        "from sklearn.cluster import KMeans\n",
        "from sklearn.metrics import classification_report\n",
        "import pandas as pd"
      ],
      "execution_count": 0,
      "outputs": []
    },
    {
      "cell_type": "code",
      "metadata": {
        "id": "tJkhVZg8H9-R",
        "colab_type": "code",
        "colab": {}
      },
      "source": [
        "data = []\n",
        "newdata = [line.split(',') for line in open(\"NBA-PBP_2016-2017.csv\").readlines()]\n",
        "data.extend(newdata[1:])\n",
        "newdata = [line.split(',') for line in open(\"NBA-PBP-2017-2018.csv\").readlines()]\n",
        "data.extend(newdata[1:])\n",
        "newdata = [line.split(',') for line in open(\"NBA-PBP-2018-2019.csv\").readlines()]\n",
        "data.extend(newdata[1:])\n",
        "newdata = [line.split(',') for line in open(\"NBA-PBP-2019-2020.csv\").readlines()]\n",
        "data.extend(newdata[1:])\n",
        "\n",
        "team = open(\"team.txt\").read().split(', ')"
      ],
      "execution_count": 0,
      "outputs": []
    },
    {
      "cell_type": "markdown",
      "metadata": {
        "id": "pCiOT77K9T2a",
        "colab_type": "text"
      },
      "source": [
        "Go through each line. Check if there is a new stat in its repective column. Check which team got stat and give them a point. Check for end of 3rd quarter to reset for next game"
      ]
    },
    {
      "cell_type": "code",
      "metadata": {
        "id": "dUcTadIhDySS",
        "colab_type": "code",
        "colab": {}
      },
      "source": [
        "labels = ['GameType', 'Score_diff', 'Opponent', 'Assist_diff', 'Block_diff', 'Steal_diff', 'Off_rebound_diff', 'Def_rebound_diff', 'Foul_diff', 'Free_throw_made_diff', 'Free_throw_miss_diff', '2_make_diff', '2_miss_diff', '3_make_diff', '3_miss_diff']\n",
        "winner = []\n",
        "sortedData = []\n",
        "temp = [0]*len(labels)\n",
        "\n",
        "for line in data:\n",
        "  if( line[6] != '1' and line[6] != '2' and line[6] != '3' ):\n",
        "    continue\n",
        "  \n",
        "  if line[9] == 'End of 3rd quarter':\n",
        "    if line[5] == line[11]:\n",
        "      winner.append(1)\n",
        "    else:\n",
        "      winner.append(0)\n",
        "    if line[1] == 'regular':\n",
        "      temp[0] = 1\n",
        "    temp[1] = int(line[13]) - int(line[10])\n",
        "    temp[2] = team.index(line[8])\n",
        "\n",
        "    sortedData.append(temp)\n",
        "    temp = [0]*len(labels)\n",
        "  \n",
        "  elif line[18] != '':\n",
        "    if line[12] != '':\n",
        "      temp[3] += 1\n",
        "    else:\n",
        "      temp[3] -= 1\n",
        "  \n",
        "  elif line[21] != '':\n",
        "    if line[12] == '':\n",
        "      temp[8] += 1\n",
        "    else:\n",
        "      temp[8] -= 1\n",
        "  \n",
        "  elif line[19] != '':\n",
        "    if line[12] == '':\n",
        "      temp[4] += 1\n",
        "    else:\n",
        "      temp[4] -= 1\n",
        "  \n",
        "  elif line[35] != '':\n",
        "    if line[12] != '':\n",
        "      temp[5] += 1\n",
        "    else:\n",
        "      temp[5] -= 1\n",
        "  \n",
        "  elif line[24] == 'offensive':\n",
        "    if line[12] != '':\n",
        "      temp[6] += 1\n",
        "    else:\n",
        "      temp[6] -= 1\n",
        "\n",
        "  elif line[24] == 'defensive':\n",
        "    if line[12] != '':\n",
        "      temp[7] += 1\n",
        "    else:\n",
        "      temp[7] -= 1\n",
        "\n",
        "  elif line[29] == 'make':\n",
        "    if line[12] != '':\n",
        "      temp[9] += 1\n",
        "    else:\n",
        "      temp[9] -= 1\n",
        "\n",
        "  elif line[29] == 'miss':\n",
        "    if line[12] != '':\n",
        "      temp[10] += 1\n",
        "    else:\n",
        "      temp[10] -= 1\n",
        "\n",
        "  if line[16] == 'make':\n",
        "    if line[12] != '':\n",
        "      if line[15][0] == '2':\n",
        "        temp[11] += 1\n",
        "      else:\n",
        "        temp[13] += 1\n",
        "    else:\n",
        "      if line[15][0] == '2':\n",
        "        temp[11] -= 1\n",
        "      else:\n",
        "        temp[13] -= 1\n",
        "\n",
        "  elif line[16] == 'miss':\n",
        "    if line[12] != '':\n",
        "      if line[15][0] == '2':\n",
        "        temp[12] += 1\n",
        "      else:\n",
        "        temp[14] += 1\n",
        "    else:\n",
        "      if line[15][0] == '2':\n",
        "        temp[12] -= 1\n",
        "      else:\n",
        "        temp[14] -= 1\n"
      ],
      "execution_count": 0,
      "outputs": []
    },
    {
      "cell_type": "markdown",
      "metadata": {
        "id": "5VAXwFIj9Qik",
        "colab_type": "text"
      },
      "source": [
        "Small tests"
      ]
    },
    {
      "cell_type": "code",
      "metadata": {
        "id": "mli6uKbPn9xN",
        "colab_type": "code",
        "colab": {
          "base_uri": "https://localhost:8080/",
          "height": 50
        },
        "outputId": "e631a765-ffc6-4d39-8064-175957885ec8"
      },
      "source": [
        "print(len(data))\n",
        "print(\"%.3f%%\" % (sum(winner)*100/len(winner)))"
      ],
      "execution_count": 75,
      "outputs": [
        {
          "output_type": "stream",
          "text": [
            "2299300\n",
            "57.809%\n"
          ],
          "name": "stdout"
        }
      ]
    },
    {
      "cell_type": "markdown",
      "metadata": {
        "id": "4092iZoC9GS3",
        "colab_type": "text"
      },
      "source": [
        "Test using all of the collected data"
      ]
    },
    {
      "cell_type": "code",
      "metadata": {
        "id": "oW0bPiSDDmjr",
        "colab_type": "code",
        "outputId": "cf74ae29-2e01-47fb-f5f5-7dc3d06e1ccd",
        "colab": {
          "base_uri": "https://localhost:8080/",
          "height": 269
        }
      },
      "source": [
        "svd = TruncatedSVD(n_components=4, n_iter=7, random_state=598)\n",
        "svddata = svd.fit_transform(sortedData)\n",
        "\n",
        "X_train, X_test, y_train, y_test = train_test_split(svddata, winner, test_size=0.33, random_state=598)\n",
        "\n",
        "lr = LogisticRegression(solver ='lbfgs',max_iter=100, random_state=598).fit(X_train, y_train)\n",
        "print(\"Logistic Regression: %.3f%%\" % (lr.score(X_test, y_test)*100))\n",
        "\n",
        "neigh = KNeighborsClassifier(n_neighbors=58).fit(X_train, y_train)\n",
        "print(\"KNN: %.3f%%\" % (neigh.score(X_test, y_test)*100))\n",
        "\n",
        "\n",
        "X_train, X_test, y_train, y_test = train_test_split(sortedData, winner, test_size=0.33, random_state=598)\n",
        "\n",
        "tree = DecisionTreeClassifier(max_depth=3, random_state=598).fit(X_train, y_train)\n",
        "print(\"Decision Trees: %.3f%%\" % (tree.score(X_test, y_test)*100))\n",
        "\n",
        "forest = RandomForestClassifier(max_depth=9, random_state=598).fit(X_train, y_train)\n",
        "print(\"Random Forest: %.3f%%\" % (forest.score(X_test, y_test)*100))\n",
        "\n",
        "\n",
        "kmeans = KMeans(n_clusters=2, random_state=598).fit(svddata)\n",
        "print(\"\\nKmeans:\\n\" + classification_report(kmeans.labels_,winner))\n",
        "\n"
      ],
      "execution_count": 67,
      "outputs": [
        {
          "output_type": "stream",
          "text": [
            "Logistic Regression: 83.323%\n",
            "KNN: 83.020%\n",
            "Decision Trees: 82.899%\n",
            "Random Forest: 83.323%\n",
            "\n",
            "Kmeans:\n",
            "              precision    recall  f1-score   support\n",
            "\n",
            "           0       0.87      0.70      0.78      2607\n",
            "           1       0.73      0.88      0.80      2387\n",
            "\n",
            "    accuracy                           0.79      4994\n",
            "   macro avg       0.80      0.79      0.79      4994\n",
            "weighted avg       0.80      0.79      0.79      4994\n",
            "\n"
          ],
          "name": "stdout"
        }
      ]
    },
    {
      "cell_type": "markdown",
      "metadata": {
        "id": "sLWRBvd3Rusx",
        "colab_type": "text"
      },
      "source": [
        "Test using just the difference in scores"
      ]
    },
    {
      "cell_type": "code",
      "metadata": {
        "id": "8mz1Mx_j3QOw",
        "colab_type": "code",
        "colab": {
          "base_uri": "https://localhost:8080/",
          "height": 269
        },
        "outputId": "3d1ef1f0-9b03-43ee-ab61-25186c7090b3"
      },
      "source": [
        "lessData = pd.DataFrame(sortedData, columns=labels)\n",
        "lessData = lessData.drop(columns=['GameType', 'Opponent', 'Assist_diff', 'Block_diff', 'Steal_diff', 'Off_rebound_diff', 'Def_rebound_diff', 'Foul_diff', 'Free_throw_made_diff', 'Free_throw_miss_diff', '2_make_diff', '2_miss_diff', '3_make_diff', '3_miss_diff'])\n",
        "# svd = TruncatedSVD(n_components=4, n_iter=7, random_state=598)\n",
        "# lesssvddata = svd.fit_transform(lessData)\n",
        "\n",
        "X_train, X_test, y_train, y_test = train_test_split(lessData, winner, test_size=0.33, random_state=598)\n",
        "\n",
        "lr = LogisticRegression(solver ='lbfgs',max_iter=100, random_state=598).fit(X_train, y_train)\n",
        "print(\"Logistic Regression: %.3f%%\" % (lr.score(X_test, y_test)*100))\n",
        "\n",
        "neigh = KNeighborsClassifier(n_neighbors=58).fit(X_train, y_train)\n",
        "print(\"KNN: %.3f%%\" % (neigh.score(X_test, y_test)*100))\n",
        "\n",
        "\n",
        "# X_train, X_test, y_train, y_test = train_test_split(lessData, winner, test_size=0.33, random_state=598)\n",
        "\n",
        "tree = DecisionTreeClassifier(max_depth=3, random_state=598).fit(X_train, y_train)\n",
        "print(\"Decision Trees: %.3f%%\" % (tree.score(X_test, y_test)*100))\n",
        "\n",
        "forest = RandomForestClassifier(max_depth=9, random_state=598).fit(X_train, y_train)\n",
        "print(\"Random Forest: %.3f%%\" % (forest.score(X_test, y_test)*100))\n",
        "\n",
        "\n",
        "kmeans = KMeans(n_clusters=2, random_state=598).fit(lesssvddata)\n",
        "print(\"\\nKmeans:\\n\" + classification_report(kmeans.labels_,winner))"
      ],
      "execution_count": 68,
      "outputs": [
        {
          "output_type": "stream",
          "text": [
            "Logistic Regression: 82.838%\n",
            "KNN: 82.838%\n",
            "Decision Trees: 82.717%\n",
            "Random Forest: 82.838%\n",
            "\n",
            "Kmeans:\n",
            "              precision    recall  f1-score   support\n",
            "\n",
            "           0       0.28      0.24      0.26      2542\n",
            "           1       0.33      0.39      0.35      2452\n",
            "\n",
            "    accuracy                           0.31      4994\n",
            "   macro avg       0.31      0.31      0.31      4994\n",
            "weighted avg       0.31      0.31      0.31      4994\n",
            "\n"
          ],
          "name": "stdout"
        }
      ]
    },
    {
      "cell_type": "markdown",
      "metadata": {
        "id": "U9bRgGeMRxpc",
        "colab_type": "text"
      },
      "source": [
        "Test using all the data but score difference"
      ]
    },
    {
      "cell_type": "code",
      "metadata": {
        "id": "Z4qK3xI20q6q",
        "colab_type": "code",
        "colab": {
          "base_uri": "https://localhost:8080/",
          "height": 269
        },
        "outputId": "56aab68f-7f8a-4a6a-f693-add974674ac8"
      },
      "source": [
        "lessData = pd.DataFrame(sortedData, columns=labels)\n",
        "lessData = lessData.drop(columns=['Score_diff'])\n",
        "svd = TruncatedSVD(n_components=4, n_iter=7, random_state=598)\n",
        "lesssvddata = svd.fit_transform(lessData)\n",
        "\n",
        "X_train, X_test, y_train, y_test = train_test_split(lesssvddata, winner, test_size=0.33, random_state=598)\n",
        "\n",
        "lr = LogisticRegression(solver ='lbfgs',max_iter=100, random_state=598).fit(X_train, y_train)\n",
        "print(\"Logistic Regression: %.3f%%\" % (lr.score(X_test, y_test)*100))\n",
        "\n",
        "neigh = KNeighborsClassifier(n_neighbors=58).fit(X_train, y_train)\n",
        "print(\"KNN: %.3f%%\" % (neigh.score(X_test, y_test)*100))\n",
        "\n",
        "\n",
        "X_train, X_test, y_train, y_test = train_test_split(lessData, winner, test_size=0.33, random_state=598)\n",
        "\n",
        "tree = DecisionTreeClassifier(max_depth=3, random_state=598).fit(X_train, y_train)\n",
        "print(\"Decision Trees: %.3f%%\" % (tree.score(X_test, y_test)*100))\n",
        "\n",
        "forest = RandomForestClassifier(max_depth=9, random_state=598).fit(X_train, y_train)\n",
        "print(\"Random Forest: %.3f%%\" % (forest.score(X_test, y_test)*100))\n",
        "\n",
        "\n",
        "kmeans = KMeans(n_clusters=2, random_state=598).fit(lesssvddata)\n",
        "print(\"\\nKmeans:\\n\" + classification_report(kmeans.labels_,winner))"
      ],
      "execution_count": 69,
      "outputs": [
        {
          "output_type": "stream",
          "text": [
            "Logistic Regression: 73.984%\n",
            "KNN: 73.802%\n",
            "Decision Trees: 73.681%\n",
            "Random Forest: 79.442%\n",
            "\n",
            "Kmeans:\n",
            "              precision    recall  f1-score   support\n",
            "\n",
            "           0       0.72      0.61      0.66      2487\n",
            "           1       0.66      0.77      0.71      2507\n",
            "\n",
            "    accuracy                           0.69      4994\n",
            "   macro avg       0.69      0.69      0.69      4994\n",
            "weighted avg       0.69      0.69      0.69      4994\n",
            "\n"
          ],
          "name": "stdout"
        }
      ]
    },
    {
      "cell_type": "markdown",
      "metadata": {
        "id": "Loq-U8_uR0R2",
        "colab_type": "text"
      },
      "source": [
        "Extra Interesting Tests"
      ]
    },
    {
      "cell_type": "code",
      "metadata": {
        "id": "gBtJTapUh8_N",
        "colab_type": "code",
        "colab": {
          "base_uri": "https://localhost:8080/",
          "height": 269
        },
        "outputId": "73b1dcee-013a-4f8f-cf7c-2eaf89131218"
      },
      "source": [
        "lessData = pd.DataFrame(sortedData, columns=labels)\n",
        "lessData = lessData.drop(columns=['Assist_diff', 'Free_throw_made_diff', 'Free_throw_miss_diff', '2_make_diff', '2_miss_diff', '3_make_diff', '3_miss_diff'])\n",
        "svd = TruncatedSVD(n_components=4, n_iter=7, random_state=598)\n",
        "lesssvddata = svd.fit_transform(lessData)\n",
        "\n",
        "X_train, X_test, y_train, y_test = train_test_split(lesssvddata, winner, test_size=0.33, random_state=598)\n",
        "\n",
        "lr = LogisticRegression(solver ='lbfgs',max_iter=100, random_state=598).fit(X_train, y_train)\n",
        "print(\"Logistic Regression: %.3f%%\" % (lr.score(X_test, y_test)*100))\n",
        "\n",
        "neigh = KNeighborsClassifier(n_neighbors=58).fit(X_train, y_train)\n",
        "print(\"KNN: %.3f%%\" % (neigh.score(X_test, y_test)*100))\n",
        "\n",
        "\n",
        "X_train, X_test, y_train, y_test = train_test_split(lessData, winner, test_size=0.33, random_state=598)\n",
        "\n",
        "tree = DecisionTreeClassifier(max_depth=3, random_state=598).fit(X_train, y_train)\n",
        "print(\"Decision Trees: %.3f%%\" % (tree.score(X_test, y_test)*100))\n",
        "\n",
        "forest = RandomForestClassifier(max_depth=9, random_state=598).fit(X_train, y_train)\n",
        "print(\"Random Forest: %.3f%%\" % (forest.score(X_test, y_test)*100))\n",
        "\n",
        "\n",
        "kmeans = KMeans(n_clusters=2, random_state=598).fit(lesssvddata)\n",
        "print(\"\\nKmeans:\\n\" + classification_report(kmeans.labels_,winner))"
      ],
      "execution_count": 70,
      "outputs": [
        {
          "output_type": "stream",
          "text": [
            "Logistic Regression: 83.141%\n",
            "KNN: 82.777%\n",
            "Decision Trees: 82.899%\n",
            "Random Forest: 82.353%\n",
            "\n",
            "Kmeans:\n",
            "              precision    recall  f1-score   support\n",
            "\n",
            "           0       0.87      0.71      0.78      2596\n",
            "           1       0.74      0.89      0.81      2398\n",
            "\n",
            "    accuracy                           0.79      4994\n",
            "   macro avg       0.80      0.80      0.79      4994\n",
            "weighted avg       0.81      0.79      0.79      4994\n",
            "\n"
          ],
          "name": "stdout"
        }
      ]
    },
    {
      "cell_type": "code",
      "metadata": {
        "id": "3OAZMsGQ0xy3",
        "colab_type": "code",
        "colab": {
          "base_uri": "https://localhost:8080/",
          "height": 269
        },
        "outputId": "1e29eac9-8b43-4c24-f86d-a0ebba30d2d0"
      },
      "source": [
        "lessData = pd.DataFrame(sortedData, columns=labels)\n",
        "lessData = lessData.drop(columns=['Score_diff', 'Opponent'])\n",
        "svd = TruncatedSVD(n_components=4, n_iter=7, random_state=598)\n",
        "lesssvddata = svd.fit_transform(lessData)\n",
        "\n",
        "X_train, X_test, y_train, y_test = train_test_split(lesssvddata, winner, test_size=0.33, random_state=598)\n",
        "\n",
        "lr = LogisticRegression(solver ='lbfgs',max_iter=100, random_state=598).fit(X_train, y_train)\n",
        "print(\"Logistic Regression: %.3f%%\" % (lr.score(X_test, y_test)*100))\n",
        "\n",
        "neigh = KNeighborsClassifier(n_neighbors=58).fit(X_train, y_train)\n",
        "print(\"KNN: %.3f%%\" % (neigh.score(X_test, y_test)*100))\n",
        "\n",
        "\n",
        "X_train, X_test, y_train, y_test = train_test_split(lessData, winner, test_size=0.33, random_state=598)\n",
        "\n",
        "tree = DecisionTreeClassifier(max_depth=3, random_state=598).fit(X_train, y_train)\n",
        "print(\"Decision Trees: %.3f%%\" % (tree.score(X_test, y_test)*100))\n",
        "\n",
        "forest = RandomForestClassifier(max_depth=9, random_state=598).fit(X_train, y_train)\n",
        "print(\"Random Forest: %.3f%%\" % (forest.score(X_test, y_test)*100))\n",
        "\n",
        "\n",
        "kmeans = KMeans(n_clusters=2, random_state=598).fit(lesssvddata)\n",
        "print(\"\\nKmeans:\\n\" + classification_report(kmeans.labels_,winner))"
      ],
      "execution_count": 73,
      "outputs": [
        {
          "output_type": "stream",
          "text": [
            "Logistic Regression: 75.682%\n",
            "KNN: 75.136%\n",
            "Decision Trees: 73.681%\n",
            "Random Forest: 79.563%\n",
            "\n",
            "Kmeans:\n",
            "              precision    recall  f1-score   support\n",
            "\n",
            "           0       0.28      0.24      0.26      2542\n",
            "           1       0.33      0.39      0.35      2452\n",
            "\n",
            "    accuracy                           0.31      4994\n",
            "   macro avg       0.31      0.31      0.31      4994\n",
            "weighted avg       0.31      0.31      0.31      4994\n",
            "\n"
          ],
          "name": "stdout"
        }
      ]
    },
    {
      "cell_type": "code",
      "metadata": {
        "id": "MIk29MlBxKu-",
        "colab_type": "code",
        "colab": {
          "base_uri": "https://localhost:8080/",
          "height": 269
        },
        "outputId": "c905b7f2-973c-4aaf-f78f-65820b059365"
      },
      "source": [
        "lessData = pd.DataFrame(sortedData, columns=labels)\n",
        "lessData = lessData.drop(columns=['GameType', 'Score_diff', 'Opponent'])\n",
        "svd = TruncatedSVD(n_components=4, n_iter=7, random_state=598)\n",
        "lesssvddata = svd.fit_transform(lessData)\n",
        "\n",
        "X_train, X_test, y_train, y_test = train_test_split(lesssvddata, winner, test_size=0.33, random_state=598)\n",
        "\n",
        "lr = LogisticRegression(solver ='lbfgs',max_iter=100, random_state=598).fit(X_train, y_train)\n",
        "print(\"Logistic Regression: %.3f%%\" % (lr.score(X_test, y_test)*100))\n",
        "\n",
        "neigh = KNeighborsClassifier(n_neighbors=58).fit(X_train, y_train)\n",
        "print(\"KNN: %.3f%%\" % (neigh.score(X_test, y_test)*100))\n",
        "\n",
        "\n",
        "X_train, X_test, y_train, y_test = train_test_split(lessData, winner, test_size=0.33, random_state=598)\n",
        "\n",
        "tree = DecisionTreeClassifier(max_depth=3, random_state=598).fit(X_train, y_train)\n",
        "print(\"Decision Trees: %.3f%%\" % (tree.score(X_test, y_test)*100))\n",
        "\n",
        "forest = RandomForestClassifier(max_depth=9, random_state=598).fit(X_train, y_train)\n",
        "print(\"Random Forest: %.3f%%\" % (forest.score(X_test, y_test)*100))\n",
        "\n",
        "\n",
        "kmeans = KMeans(n_clusters=2, random_state=598).fit(lesssvddata)\n",
        "print(\"\\nKmeans:\\n\" + classification_report(kmeans.labels_,winner))"
      ],
      "execution_count": 72,
      "outputs": [
        {
          "output_type": "stream",
          "text": [
            "Logistic Regression: 75.682%\n",
            "KNN: 75.136%\n",
            "Decision Trees: 73.681%\n",
            "Random Forest: 78.836%\n",
            "\n",
            "Kmeans:\n",
            "              precision    recall  f1-score   support\n",
            "\n",
            "           0       0.28      0.24      0.26      2542\n",
            "           1       0.33      0.39      0.35      2452\n",
            "\n",
            "    accuracy                           0.31      4994\n",
            "   macro avg       0.31      0.31      0.31      4994\n",
            "weighted avg       0.31      0.31      0.31      4994\n",
            "\n"
          ],
          "name": "stdout"
        }
      ]
    }
  ]
}